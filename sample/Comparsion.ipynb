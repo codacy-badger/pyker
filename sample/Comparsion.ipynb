{
 "cells": [
  {
   "cell_type": "code",
   "execution_count": null,
   "metadata": {},
   "outputs": [],
   "source": [
    "from pyker import Result, PokerHand\n",
    "\n",
    "print(PokerHand(\"TC TH 5C 5H KH\").compare_with(PokerHand(\"9C 9H 5C 5H AC\")))\n",
    "print(PokerHand(\"TS TD KC JC 7C\").compare_with(PokerHand(\"JS JC AS KC TD\")))\n",
    "print(PokerHand(\"7H 7C QC JS TS\").compare_with(PokerHand(\"7D 7C JS TS 6D\")))\n",
    "print(PokerHand(\"5S 5D 8C 7S 6H\").compare_with(PokerHand(\"7D 7S 5S 5D JS\")))\n",
    "print(PokerHand(\"AS AD KD 7C 3D\").compare_with(PokerHand(\"AD AH KD 7C 4S\")))\n",
    "print(PokerHand(\"TS JS QS KS AS\").compare_with(PokerHand(\"AC AH AS AS KS\")))\n",
    "print(PokerHand(\"TS JS QS KS AS\").compare_with(PokerHand(\"TC JS QC KS AC\")))\n",
    "print(PokerHand(\"TS JS QS KS AS\").compare_with(PokerHand(\"QH QS QC AS 8H\")))"
   ]
  },
  {
   "cell_type": "code",
   "execution_count": null,
   "metadata": {},
   "outputs": [],
   "source": []
  }
 ],
 "metadata": {
  "kernelspec": {
   "display_name": "Python 3",
   "language": "python",
   "name": "python3"
  },
  "language_info": {
   "codemirror_mode": {
    "name": "ipython",
    "version": 3
   },
   "file_extension": ".py",
   "mimetype": "text/x-python",
   "name": "python",
   "nbconvert_exporter": "python",
   "pygments_lexer": "ipython3",
   "version": "3.8.1"
  }
 },
 "nbformat": 4,
 "nbformat_minor": 4
}
